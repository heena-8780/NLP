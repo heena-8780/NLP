{
 "cells": [
  {
   "cell_type": "code",
   "execution_count": 1,
   "metadata": {},
   "outputs": [],
   "source": [
    "import pandas as pd\n",
    "import numpy as np\n",
    "from sklearn.metrics import confusion_matrix,classification_report\n",
    "\n",
    "def display_model_performance_metrics(true_labels, predicted_labels, classes=['positive', 'negative']):\n",
    "    total_classes = len(classes)\n",
    "    level_labels = [total_classes*[0], list(range(total_classes))]\n",
    "    matrix = confusion_matrix(true_labels=test_sentiments, predicted_labels=predicted_sentiments)\n",
    "    print('\\nModel Performance metrics:','--'*15,sep='\\n')\n",
    "    print(f'Accuracy : {(matrix[0][0] + matrix[1][1])/(matrix[0][0] + matrix[1][1]+matrix[0][1] + matrix[1][0])*100:0.2f}%')\n",
    "    print(f'Precision : {matrix[0][0]/(matrix[0][0] + matrix[1][0])*100:0.2f}%')\n",
    "    print(f'Recall : {matrix[0][0]/(matrix[0][0] + matrix[0][1])*100:0.2f}%')\n",
    "    print(f'F1 Score : {2*((matrix[0][0]/(matrix[0][0] + matrix[1][0]))*(matrix[0][0]/(matrix[0][0] + matrix[0][1])))/((matrix[0][0]/(matrix[0][0] + matrix[1][0]))+(matrix[0][0]/(matrix[0][0] + matrix[0][1])))*100:0.2f}%')\n",
    "    print('\\nModel Classification reports:','--'*15,sep='\\n')\n",
    "    print(classification_report(test_sentiments,predicted_sentiments))\n",
    "    cm_frame = pd.DataFrame(data=matrix, \n",
    "                        columns=pd.MultiIndex(levels=[['Predicted:'], classes], \n",
    "                                              codes=level_labels), \n",
    "                        index=pd.MultiIndex(levels=[['Actual:'], classes], \n",
    "                                            codes=level_labels))\n",
    "    print('Prediction Confusion Matrix : ','--'*15,sep='\\n')\n",
    "    print(cm_frame)"
   ]
  },
  {
   "cell_type": "code",
   "execution_count": null,
   "metadata": {},
   "outputs": [],
   "source": []
  }
 ],
 "metadata": {
  "kernelspec": {
   "display_name": "Python 3",
   "language": "python",
   "name": "python3"
  },
  "language_info": {
   "codemirror_mode": {
    "name": "ipython",
    "version": 3
   },
   "file_extension": ".py",
   "mimetype": "text/x-python",
   "name": "python",
   "nbconvert_exporter": "python",
   "pygments_lexer": "ipython3",
   "version": "3.7.7"
  }
 },
 "nbformat": 4,
 "nbformat_minor": 4
}
